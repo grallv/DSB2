{
 "cells": [
  {
   "cell_type": "code",
   "execution_count": 1,
   "metadata": {},
   "outputs": [
    {
     "name": "stderr",
     "output_type": "stream",
     "text": [
      "c:\\Users\\veren\\anaconda3\\Lib\\site-packages\\pandas\\core\\arrays\\masked.py:60: UserWarning: Pandas requires version '1.3.6' or newer of 'bottleneck' (version '1.3.5' currently installed).\n",
      "  from pandas.core import (\n"
     ]
    }
   ],
   "source": [
    "import pandas as pd\n",
    "import numpy as np \n",
    "import ast\n",
    "from sklearn.linear_model import LinearRegression\n",
    "from sklearn.model_selection import train_test_split\n",
    "from sklearn.linear_model import Ridge, Lasso\n",
    "from sklearn.tree import DecisionTreeRegressor\n",
    "from sklearn.ensemble import RandomForestRegressor"
   ]
  },
  {
   "cell_type": "code",
   "execution_count": 2,
   "metadata": {},
   "outputs": [],
   "source": [
    "# read datasets & create dataframes\n",
    "\n",
    "comdata = pd.read_csv('final_data.csv', index_col= 'Unnamed: 0')\n",
    "ret_data = pd.read_csv('return_daily.csv', index_col='Unnamed: 0')"
   ]
  },
  {
   "cell_type": "code",
   "execution_count": 3,
   "metadata": {},
   "outputs": [],
   "source": [
    "market_ret = ret_data[ret_data.index == 'mean']\n",
    "# market_ret"
   ]
  },
  {
   "cell_type": "code",
   "execution_count": 4,
   "metadata": {},
   "outputs": [],
   "source": [
    "stock_ret = ret_data.drop('mean', axis=0)\n",
    "# stock_ret"
   ]
  },
  {
   "cell_type": "code",
   "execution_count": 5,
   "metadata": {},
   "outputs": [],
   "source": [
    "# comdata.head()"
   ]
  },
  {
   "cell_type": "code",
   "execution_count": 6,
   "metadata": {},
   "outputs": [],
   "source": [
    "def parse_isin_list(isin_str):\n",
    "    # Convert string representation of list into actual list\n",
    "    try:\n",
    "        isin_list = ast.literal_eval(isin_str)\n",
    "        # Replace 'None' and actual None with np.nan\n",
    "        return [np.nan if (item is None or item == 'None') else item for item in isin_list]\n",
    "    except:\n",
    "        return []  # Return empty list if parsing fails"
   ]
  },
  {
   "cell_type": "code",
   "execution_count": 7,
   "metadata": {},
   "outputs": [],
   "source": [
    "comdata['bidders_isin'] = comdata['bidders_isin'].apply(parse_isin_list)"
   ]
  },
  {
   "cell_type": "code",
   "execution_count": 8,
   "metadata": {},
   "outputs": [],
   "source": [
    "df_exploded = comdata.explode('bidders_isin')\n",
    "df_exploded['is_bidder'] = df_exploded['bidders_isin'].notna().astype(int)"
   ]
  },
  {
   "cell_type": "code",
   "execution_count": 9,
   "metadata": {},
   "outputs": [],
   "source": [
    "df_exploded['targets_isin'] = df_exploded['targets_isin'].apply(parse_isin_list)"
   ]
  },
  {
   "cell_type": "code",
   "execution_count": 10,
   "metadata": {},
   "outputs": [],
   "source": [
    "df_exploded = df_exploded.explode('targets_isin')\n",
    "df_exploded['is_target'] = df_exploded['targets_isin'].notna().astype(int)"
   ]
  },
  {
   "cell_type": "code",
   "execution_count": 11,
   "metadata": {},
   "outputs": [
    {
     "data": {
      "text/plain": [
       "Index(['number', 'date_completion', 'bidders_name', 'date_completion_assumed',\n",
       "       'date_last_status_update', 'status', 'bidders_industry', 'id',\n",
       "       'comments', 'targets_industry', 'targets_isin', 'date_rumor',\n",
       "       'date_postponed', 'date_announcement', 'bidders_isin',\n",
       "       'date_completion_expected', 'date_withdrawn', 'targets_country', 'type',\n",
       "       'targets_name', 'bidders_country', 'sentences', 'cleaned_sentences',\n",
       "       'stemmed_sentences', 'lemmatized_sentences', 'pos_tagged_sentences',\n",
       "       'dependency_parsed_sentences', 'sentiment', 'vader_sentiment',\n",
       "       'named_entities', 'topic', 'emotion', 'is_bidder', 'is_target'],\n",
       "      dtype='object')"
      ]
     },
     "execution_count": 11,
     "metadata": {},
     "output_type": "execute_result"
    }
   ],
   "source": [
    "df_exploded.columns"
   ]
  },
  {
   "cell_type": "code",
   "execution_count": 12,
   "metadata": {},
   "outputs": [],
   "source": [
    "senti_cols = ['status', 'bidders_industry', 'bidders_isin', 'targets_industry', \n",
    "              'targets_isin', 'date_rumor', 'date_announcement', 'targets_country',\n",
    "              'bidders_country', 'sentiment', 'vader_sentiment', 'named_entities', \n",
    "              'topic', 'emotion', 'is_bidder', 'is_target']"
   ]
  },
  {
   "cell_type": "code",
   "execution_count": 13,
   "metadata": {},
   "outputs": [],
   "source": [
    "senti_df = df_exploded[senti_cols]"
   ]
  },
  {
   "cell_type": "code",
   "execution_count": 14,
   "metadata": {},
   "outputs": [
    {
     "name": "stderr",
     "output_type": "stream",
     "text": [
      "C:\\Users\\veren\\AppData\\Local\\Temp\\ipykernel_28868\\2310935257.py:1: SettingWithCopyWarning: \n",
      "A value is trying to be set on a copy of a slice from a DataFrame.\n",
      "Try using .loc[row_indexer,col_indexer] = value instead\n",
      "\n",
      "See the caveats in the documentation: https://pandas.pydata.org/pandas-docs/stable/user_guide/indexing.html#returning-a-view-versus-a-copy\n",
      "  senti_df['ISIN'] = senti_df['bidders_isin'].str.cat(senti_df['targets_isin'], sep='', na_rep='')\n"
     ]
    }
   ],
   "source": [
    "senti_df['ISIN'] = senti_df['bidders_isin'].str.cat(senti_df['targets_isin'], sep='', na_rep='')"
   ]
  },
  {
   "cell_type": "code",
   "execution_count": 15,
   "metadata": {},
   "outputs": [
    {
     "data": {
      "text/html": [
       "<div>\n",
       "<style scoped>\n",
       "    .dataframe tbody tr th:only-of-type {\n",
       "        vertical-align: middle;\n",
       "    }\n",
       "\n",
       "    .dataframe tbody tr th {\n",
       "        vertical-align: top;\n",
       "    }\n",
       "\n",
       "    .dataframe thead th {\n",
       "        text-align: right;\n",
       "    }\n",
       "</style>\n",
       "<table border=\"1\" class=\"dataframe\">\n",
       "  <thead>\n",
       "    <tr style=\"text-align: right;\">\n",
       "      <th></th>\n",
       "      <th>status</th>\n",
       "      <th>bidders_industry</th>\n",
       "      <th>bidders_isin</th>\n",
       "      <th>targets_industry</th>\n",
       "      <th>targets_isin</th>\n",
       "      <th>date_rumor</th>\n",
       "      <th>date_announcement</th>\n",
       "      <th>targets_country</th>\n",
       "      <th>bidders_country</th>\n",
       "      <th>sentiment</th>\n",
       "      <th>vader_sentiment</th>\n",
       "      <th>named_entities</th>\n",
       "      <th>topic</th>\n",
       "      <th>emotion</th>\n",
       "      <th>is_bidder</th>\n",
       "      <th>is_target</th>\n",
       "      <th>ISIN</th>\n",
       "    </tr>\n",
       "  </thead>\n",
       "  <tbody>\n",
       "    <tr>\n",
       "      <th>0</th>\n",
       "      <td>Completed</td>\n",
       "      <td>['6499']</td>\n",
       "      <td>NaN</td>\n",
       "      <td>['2910']</td>\n",
       "      <td>INE451A01017</td>\n",
       "      <td>2014-07-31</td>\n",
       "      <td>2014-07-31</td>\n",
       "      <td>['IN']</td>\n",
       "      <td>['IN']</td>\n",
       "      <td>0.9118</td>\n",
       "      <td>positive</td>\n",
       "      <td>[('20140801', 'DATE'), ('310714', 'CARDINAL'),...</td>\n",
       "      <td>3</td>\n",
       "      <td>[('positive', 0.25)]</td>\n",
       "      <td>0</td>\n",
       "      <td>1</td>\n",
       "      <td>INE451A01017</td>\n",
       "    </tr>\n",
       "    <tr>\n",
       "      <th>1</th>\n",
       "      <td>Completed</td>\n",
       "      <td>['2931']</td>\n",
       "      <td>CNE100004C11</td>\n",
       "      <td>['2561']</td>\n",
       "      <td>NaN</td>\n",
       "      <td>2022-04-27</td>\n",
       "      <td>2022-04-27</td>\n",
       "      <td>['CN']</td>\n",
       "      <td>['CN']</td>\n",
       "      <td>0.3612</td>\n",
       "      <td>positive</td>\n",
       "      <td>[('20220427', 'DATE'), ('automotive electronic...</td>\n",
       "      <td>4</td>\n",
       "      <td>[('positive', 0.5)]</td>\n",
       "      <td>1</td>\n",
       "      <td>0</td>\n",
       "      <td>CNE100004C11</td>\n",
       "    </tr>\n",
       "    <tr>\n",
       "      <th>2</th>\n",
       "      <td>Completed Assumed</td>\n",
       "      <td>['2651']</td>\n",
       "      <td>CNE100000643</td>\n",
       "      <td>['4669']</td>\n",
       "      <td>NaN</td>\n",
       "      <td>2019-09-16</td>\n",
       "      <td>2019-09-16</td>\n",
       "      <td>['CN']</td>\n",
       "      <td>['CN']</td>\n",
       "      <td>0.2960</td>\n",
       "      <td>positive</td>\n",
       "      <td>[(\"'20190916\", 'DATE'), ('beijing', 'GPE'), ('...</td>\n",
       "      <td>1</td>\n",
       "      <td>[('positive', 0.45)]</td>\n",
       "      <td>1</td>\n",
       "      <td>0</td>\n",
       "      <td>CNE100000643</td>\n",
       "    </tr>\n",
       "    <tr>\n",
       "      <th>3</th>\n",
       "      <td>Completed</td>\n",
       "      <td>['2932']</td>\n",
       "      <td>KYG693691092</td>\n",
       "      <td>['2932']</td>\n",
       "      <td>NaN</td>\n",
       "      <td>2015-06-02</td>\n",
       "      <td>2015-06-02</td>\n",
       "      <td>['SG']</td>\n",
       "      <td>['KY']</td>\n",
       "      <td>-0.2960</td>\n",
       "      <td>negative</td>\n",
       "      <td>[(\"'20150602\", 'DATE'), ('5 million', 'CARDINA...</td>\n",
       "      <td>4</td>\n",
       "      <td>[('positive', 1.0)]</td>\n",
       "      <td>1</td>\n",
       "      <td>0</td>\n",
       "      <td>KYG693691092</td>\n",
       "    </tr>\n",
       "    <tr>\n",
       "      <th>4</th>\n",
       "      <td>Withdrawn</td>\n",
       "      <td>['4519']</td>\n",
       "      <td>NaN</td>\n",
       "      <td>['2931']</td>\n",
       "      <td>AU000000SIX0</td>\n",
       "      <td>2019-04-23</td>\n",
       "      <td>2019-04-23</td>\n",
       "      <td>['AU']</td>\n",
       "      <td>['CN']</td>\n",
       "      <td>0.9531</td>\n",
       "      <td>positive</td>\n",
       "      <td>[('sprintex ltd', 'ORG'), ('11939765', 'DATE')...</td>\n",
       "      <td>3</td>\n",
       "      <td>[('positive', 0.296875)]</td>\n",
       "      <td>0</td>\n",
       "      <td>1</td>\n",
       "      <td>AU000000SIX0</td>\n",
       "    </tr>\n",
       "  </tbody>\n",
       "</table>\n",
       "</div>"
      ],
      "text/plain": [
       "              status bidders_industry  bidders_isin targets_industry  \\\n",
       "0          Completed         ['6499']           NaN         ['2910']   \n",
       "1          Completed         ['2931']  CNE100004C11         ['2561']   \n",
       "2  Completed Assumed         ['2651']  CNE100000643         ['4669']   \n",
       "3          Completed         ['2932']  KYG693691092         ['2932']   \n",
       "4          Withdrawn         ['4519']           NaN         ['2931']   \n",
       "\n",
       "   targets_isin  date_rumor date_announcement targets_country bidders_country  \\\n",
       "0  INE451A01017  2014-07-31        2014-07-31          ['IN']          ['IN']   \n",
       "1           NaN  2022-04-27        2022-04-27          ['CN']          ['CN']   \n",
       "2           NaN  2019-09-16        2019-09-16          ['CN']          ['CN']   \n",
       "3           NaN  2015-06-02        2015-06-02          ['SG']          ['KY']   \n",
       "4  AU000000SIX0  2019-04-23        2019-04-23          ['AU']          ['CN']   \n",
       "\n",
       "   sentiment vader_sentiment  \\\n",
       "0     0.9118        positive   \n",
       "1     0.3612        positive   \n",
       "2     0.2960        positive   \n",
       "3    -0.2960        negative   \n",
       "4     0.9531        positive   \n",
       "\n",
       "                                      named_entities  topic  \\\n",
       "0  [('20140801', 'DATE'), ('310714', 'CARDINAL'),...      3   \n",
       "1  [('20220427', 'DATE'), ('automotive electronic...      4   \n",
       "2  [(\"'20190916\", 'DATE'), ('beijing', 'GPE'), ('...      1   \n",
       "3  [(\"'20150602\", 'DATE'), ('5 million', 'CARDINA...      4   \n",
       "4  [('sprintex ltd', 'ORG'), ('11939765', 'DATE')...      3   \n",
       "\n",
       "                    emotion  is_bidder  is_target          ISIN  \n",
       "0      [('positive', 0.25)]          0          1  INE451A01017  \n",
       "1       [('positive', 0.5)]          1          0  CNE100004C11  \n",
       "2      [('positive', 0.45)]          1          0  CNE100000643  \n",
       "3       [('positive', 1.0)]          1          0  KYG693691092  \n",
       "4  [('positive', 0.296875)]          0          1  AU000000SIX0  "
      ]
     },
     "execution_count": 15,
     "metadata": {},
     "output_type": "execute_result"
    }
   ],
   "source": [
    "senti_df.head()"
   ]
  },
  {
   "cell_type": "code",
   "execution_count": null,
   "metadata": {},
   "outputs": [],
   "source": [
    "# merge dataframes\n",
    "\n",
    "\n",
    "# e.g.:\n",
    "# data = sentiment_df.merge(stock_returns_df, on=['ISIN', 'Event_Date'], how='inner')\n",
    "# data = data.merge(market_returns_df, on='Event_Date', how='inner')"
   ]
  },
  {
   "cell_type": "code",
   "execution_count": null,
   "metadata": {},
   "outputs": [],
   "source": [
    "# Define dependent variable (CAR bzw. CAAR) and independent variables (Sentiment, Market Returns, ...)\n",
    "\n",
    "X = df[['Sentiment', 'Market_Return']]  # adjust for actual data\n",
    "y = df['CAR'] # bzw. CAAR"
   ]
  },
  {
   "cell_type": "code",
   "execution_count": null,
   "metadata": {},
   "outputs": [],
   "source": [
    "# split data into training and test datasets\n",
    "\n",
    "X_train, X_test, y_train, y_test = train_test_split(X, y, test_size=0.2, random_state=42)"
   ]
  },
  {
   "cell_type": "markdown",
   "metadata": {},
   "source": [
    "Linear Regression\n"
   ]
  },
  {
   "cell_type": "code",
   "execution_count": null,
   "metadata": {},
   "outputs": [],
   "source": [
    "# fit regression\n",
    "\n",
    "model = LinearRegression()\n",
    "model.fit(X_train, y_train)"
   ]
  },
  {
   "cell_type": "code",
   "execution_count": null,
   "metadata": {},
   "outputs": [],
   "source": [
    "# print coeff and intercept\n",
    "\n",
    "print(f\"Intercept: {model.intercept_}\")\n",
    "print(f\"Sentiment Coefficient: {model.coef_[0]}\")\n",
    "print(f\"Market Return Coefficient: {model.coef_[1]}\")"
   ]
  },
  {
   "cell_type": "code",
   "execution_count": null,
   "metadata": {},
   "outputs": [],
   "source": [
    "# Optionally, evaluate the model on the test set\n",
    "\n",
    "y_pred = model.predict(X_test)\n",
    "print(f\"Predicted CAR: {y_pred}\")\n",
    "print(f\"Actual CAR: {y_test.values}\")"
   ]
  },
  {
   "cell_type": "code",
   "execution_count": null,
   "metadata": {},
   "outputs": [],
   "source": [
    "# print R-squared value to check how well the model fits the data\n",
    "\n",
    "print(f\"R-squared: {model.score(X_test, y_test)}\")"
   ]
  },
  {
   "cell_type": "code",
   "execution_count": null,
   "metadata": {},
   "outputs": [],
   "source": [
    "print(model.summary())"
   ]
  },
  {
   "cell_type": "markdown",
   "metadata": {},
   "source": [
    "Ridge Regression"
   ]
  },
  {
   "cell_type": "code",
   "execution_count": null,
   "metadata": {},
   "outputs": [],
   "source": [
    "ridge_regressor = Ridge(alpha=1.0)\n",
    "ridge_regressor.fit(X_train, y_train)"
   ]
  },
  {
   "cell_type": "code",
   "execution_count": null,
   "metadata": {},
   "outputs": [],
   "source": [
    "print(f\"Ridge Intercept: {ridge_regressor.intercept_}\")\n",
    "print(f\"Ridge Sentiment Coefficient: {ridge_regressor.coef_[0]}\")\n",
    "print(f\"Ridge Market Return Coefficient: {ridge_regressor.coef_[1]}\")"
   ]
  },
  {
   "cell_type": "code",
   "execution_count": null,
   "metadata": {},
   "outputs": [],
   "source": [
    "print(ridge_regressor.summary())"
   ]
  },
  {
   "cell_type": "markdown",
   "metadata": {},
   "source": [
    "Lasso Regression"
   ]
  },
  {
   "cell_type": "code",
   "execution_count": null,
   "metadata": {},
   "outputs": [],
   "source": [
    "lasso_regressor = Lasso(alpha=0.1)\n",
    "lasso_regressor.fit(X_train, y_train)"
   ]
  },
  {
   "cell_type": "code",
   "execution_count": null,
   "metadata": {},
   "outputs": [],
   "source": [
    "print(f\"Lasso Intercept: {lasso_regressor.intercept_}\")\n",
    "print(f\"Lasso Sentiment Coefficient: {lasso_regressor.coef_[0]}\")\n",
    "print(f\"Lasso Market Return Coefficient: {lasso_regressor.coef_[1]}\")"
   ]
  },
  {
   "cell_type": "code",
   "execution_count": null,
   "metadata": {},
   "outputs": [],
   "source": [
    "print(lasso_regressor.summary())"
   ]
  },
  {
   "cell_type": "markdown",
   "metadata": {},
   "source": [
    "Decision Tree"
   ]
  },
  {
   "cell_type": "code",
   "execution_count": null,
   "metadata": {},
   "outputs": [],
   "source": [
    "dt_regressor = DecisionTreeRegressor(random_state=42)\n",
    "dt_regressor.fit(X_train, y_train)"
   ]
  },
  {
   "cell_type": "code",
   "execution_count": null,
   "metadata": {},
   "outputs": [],
   "source": [
    "print(f\"Decision Tree Feature Importances: {dt_regressor.feature_importances_}\")"
   ]
  },
  {
   "cell_type": "markdown",
   "metadata": {},
   "source": [
    "Random Forest"
   ]
  },
  {
   "cell_type": "code",
   "execution_count": null,
   "metadata": {},
   "outputs": [],
   "source": [
    "rf_regressor = RandomForestRegressor(n_estimators=100, random_state=42)\n",
    "rf_regressor.fit(X_train, y_train)"
   ]
  },
  {
   "cell_type": "code",
   "execution_count": null,
   "metadata": {},
   "outputs": [],
   "source": [
    "print(f\"Random Forest Feature Importances: {rf_regressor.feature_importances_}\")"
   ]
  },
  {
   "cell_type": "code",
   "execution_count": null,
   "metadata": {},
   "outputs": [],
   "source": []
  },
  {
   "cell_type": "code",
   "execution_count": null,
   "metadata": {},
   "outputs": [],
   "source": []
  },
  {
   "cell_type": "code",
   "execution_count": null,
   "metadata": {},
   "outputs": [],
   "source": []
  },
  {
   "cell_type": "code",
   "execution_count": null,
   "metadata": {},
   "outputs": [],
   "source": []
  },
  {
   "cell_type": "code",
   "execution_count": null,
   "metadata": {},
   "outputs": [],
   "source": []
  },
  {
   "cell_type": "code",
   "execution_count": null,
   "metadata": {},
   "outputs": [],
   "source": []
  },
  {
   "cell_type": "code",
   "execution_count": null,
   "metadata": {},
   "outputs": [],
   "source": []
  }
 ],
 "metadata": {
  "kernelspec": {
   "display_name": "base",
   "language": "python",
   "name": "python3"
  },
  "language_info": {
   "codemirror_mode": {
    "name": "ipython",
    "version": 3
   },
   "file_extension": ".py",
   "mimetype": "text/x-python",
   "name": "python",
   "nbconvert_exporter": "python",
   "pygments_lexer": "ipython3",
   "version": "3.11.5"
  }
 },
 "nbformat": 4,
 "nbformat_minor": 2
}
